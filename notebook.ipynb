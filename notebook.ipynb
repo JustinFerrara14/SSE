{
 "cells": [
  {
   "metadata": {},
   "cell_type": "code",
   "outputs": [],
   "execution_count": null,
   "source": "",
   "id": "ddcccbd12f0fa689"
  },
  {
   "metadata": {
    "ExecuteTime": {
     "end_time": "2025-03-06T15:39:24.526733Z",
     "start_time": "2025-03-06T15:39:23.883380Z"
    }
   },
   "cell_type": "code",
   "source": [
    "from hashlib import sha256\n",
    "\n",
    "def key_gen():\n",
    "    phi = 2\n",
    "    e = 2\n",
    "    while gcd(phi, e) != 1 :\n",
    "        p = random_prime(2**1024, proof = False)\n",
    "        q = random_prime(2**1024, proof = False)\n",
    "        n = p*q\n",
    "        phi = (p-1) * (q-1)\n",
    "        e = 65537\n",
    "    d = inverse_mod(e, phi)\n",
    "    return (e, d, n, p, q)\n",
    "\n",
    "def sign(m, d, p, q, n):\n",
    "    dp = d % (p-1)\n",
    "    dq = d % (q-1)\n",
    "    h = int.from_bytes(sha256(m).digest(), byteorder = \"big\")\n",
    "    #Nous introduisons ici le bug\n",
    "    sp = ZZ.random_element(p)# Nous simulons ici le bug. Vrai code: power_mod(h, dp, p)\n",
    "    sq = power_mod(h, dq, q)\n",
    "    return crt([sp, sq], [p, q])\n",
    "\n",
    "def generate():\n",
    "    (e, d, n, p, q) = key_gen()\n",
    "    m = b\"This message is signed with RSA-CRT!\"\n",
    "    s = sign(m, d, p, q, n)\n",
    "    print(\"e = %s\" % str(e))\n",
    "    print(\"n = %s\" %str(n))\n",
    "    print(\"s = %s\" %s)\n",
    "\n",
    "generate()"
   ],
   "id": "b66a32d779a65ded",
   "outputs": [
    {
     "ename": "NameError",
     "evalue": "name 'gcd' is not defined",
     "output_type": "error",
     "traceback": [
      "\u001B[1;31m---------------------------------------------------------------------------\u001B[0m",
      "\u001B[1;31mNameError\u001B[0m                                 Traceback (most recent call last)",
      "Cell \u001B[1;32mIn[1], line 32\u001B[0m\n\u001B[0;32m     29\u001B[0m     \u001B[38;5;28mprint\u001B[39m(\u001B[38;5;124m\"\u001B[39m\u001B[38;5;124mn = \u001B[39m\u001B[38;5;132;01m%s\u001B[39;00m\u001B[38;5;124m\"\u001B[39m \u001B[38;5;241m%\u001B[39m\u001B[38;5;28mstr\u001B[39m(n))\n\u001B[0;32m     30\u001B[0m     \u001B[38;5;28mprint\u001B[39m(\u001B[38;5;124m\"\u001B[39m\u001B[38;5;124ms = \u001B[39m\u001B[38;5;132;01m%s\u001B[39;00m\u001B[38;5;124m\"\u001B[39m \u001B[38;5;241m%\u001B[39ms)\n\u001B[1;32m---> 32\u001B[0m generate()\n",
      "Cell \u001B[1;32mIn[1], line 25\u001B[0m, in \u001B[0;36mgenerate\u001B[1;34m()\u001B[0m\n\u001B[0;32m     24\u001B[0m \u001B[38;5;28;01mdef\u001B[39;00m \u001B[38;5;21mgenerate\u001B[39m():\n\u001B[1;32m---> 25\u001B[0m     (e, d, n, p, q) \u001B[38;5;241m=\u001B[39m key_gen()\n\u001B[0;32m     26\u001B[0m     m \u001B[38;5;241m=\u001B[39m \u001B[38;5;124mb\u001B[39m\u001B[38;5;124m\"\u001B[39m\u001B[38;5;124mThis message is signed with RSA-CRT!\u001B[39m\u001B[38;5;124m\"\u001B[39m\n\u001B[0;32m     27\u001B[0m     s \u001B[38;5;241m=\u001B[39m sign(m, d, p, q, n)\n",
      "Cell \u001B[1;32mIn[1], line 6\u001B[0m, in \u001B[0;36mkey_gen\u001B[1;34m()\u001B[0m\n\u001B[0;32m      4\u001B[0m phi \u001B[38;5;241m=\u001B[39m \u001B[38;5;241m2\u001B[39m\n\u001B[0;32m      5\u001B[0m e \u001B[38;5;241m=\u001B[39m \u001B[38;5;241m2\u001B[39m\n\u001B[1;32m----> 6\u001B[0m \u001B[38;5;28;01mwhile\u001B[39;00m gcd(phi, e) \u001B[38;5;241m!=\u001B[39m \u001B[38;5;241m1\u001B[39m :\n\u001B[0;32m      7\u001B[0m     p \u001B[38;5;241m=\u001B[39m random_prime(\u001B[38;5;241m2\u001B[39m\u001B[38;5;241m*\u001B[39m\u001B[38;5;241m*\u001B[39m\u001B[38;5;241m1024\u001B[39m, proof \u001B[38;5;241m=\u001B[39m \u001B[38;5;28;01mFalse\u001B[39;00m)\n\u001B[0;32m      8\u001B[0m     q \u001B[38;5;241m=\u001B[39m random_prime(\u001B[38;5;241m2\u001B[39m\u001B[38;5;241m*\u001B[39m\u001B[38;5;241m*\u001B[39m\u001B[38;5;241m1024\u001B[39m, proof \u001B[38;5;241m=\u001B[39m \u001B[38;5;28;01mFalse\u001B[39;00m)\n",
      "\u001B[1;31mNameError\u001B[0m: name 'gcd' is not defined"
     ]
    }
   ],
   "execution_count": 1
  }
 ],
 "metadata": {
  "kernelspec": {
   "display_name": "Python 3 (ipykernel)",
   "language": "python",
   "name": "python3"
  },
  "language_info": {
   "codemirror_mode": {
    "name": "ipython",
    "version": 3
   },
   "file_extension": ".py",
   "mimetype": "text/x-python",
   "name": "python",
   "nbconvert_exporter": "python",
   "pygments_lexer": "ipython3",
   "version": "3.10.12"
  }
 },
 "nbformat": 4,
 "nbformat_minor": 5
}
